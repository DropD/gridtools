{
 "metadata": {
  "celltoolbar": "Slideshow",
  "name": "",
  "signature": "sha256:87f33ad6e7a02bec7231d1e993c40a20ea0f5c388d4ffb5d9d9567f2a49430b7"
 },
 "nbformat": 3,
 "nbformat_minor": 0,
 "worksheets": [
  {
   "cells": [
    {
     "cell_type": "code",
     "collapsed": false,
     "input": [
      "# \n",
      "# notebook setup\n",
      "# \n",
      "%matplotlib qt\n",
      "import matplotlib.pyplot as plt\n",
      "import numpy as np"
     ],
     "language": "python",
     "metadata": {
      "slideshow": {
       "slide_type": "skip"
      }
     },
     "outputs": [],
     "prompt_number": 1
    },
    {
     "cell_type": "markdown",
     "metadata": {
      "slideshow": {
       "slide_type": "slide"
      }
     },
     "source": [
      "# ::: Gridtools4Py :::\n",
      "## A Python interface for Gridtools"
     ]
    },
    {
     "cell_type": "markdown",
     "metadata": {
      "slideshow": {
       "slide_type": "slide"
      }
     },
     "source": [
      "### A copy stencil implemented in Python\n"
     ]
    },
    {
     "cell_type": "code",
     "collapsed": false,
     "input": [
      "from gridtools.stencil import MultiStageStencil\n",
      "\n",
      "\n",
      "class CopyStencil (MultiStageStencil):\n",
      "    \"\"\"\n",
      "    Definition of a simple copy stencil.-\n",
      "    \"\"\"\n",
      "    def kernel (self, out_data, in_data):\n",
      "        \"\"\"\n",
      "        The entry stage of this stencil.-\n",
      "        \"\"\"\n",
      "        #\n",
      "        # iterate over the interior data points\n",
      "        #\n",
      "        for p in self.get_interior_points (out_data):\n",
      "            out_data[p] = in_data[p]\n"
     ],
     "language": "python",
     "metadata": {
      "slideshow": {
       "slide_type": "-"
      }
     },
     "outputs": [],
     "prompt_number": 2
    },
    {
     "cell_type": "markdown",
     "metadata": {
      "slideshow": {
       "slide_type": "slide"
      }
     },
     "source": [
      "### Use NumPy arrays as data fields"
     ]
    },
    {
     "cell_type": "code",
     "collapsed": false,
     "input": [
      "domain = (64, 64, 32)\n",
      "\n",
      "source = np.random.rand (*domain)   # data field of size 'domain'\n",
      "                                    # filled with random numbers\n",
      "target = np.zeros (domain)          # data field of size 'domain'\n",
      "                                    # filled with zeros"
     ],
     "language": "python",
     "metadata": {
      "slideshow": {
       "slide_type": "-"
      }
     },
     "outputs": [],
     "prompt_number": 3
    },
    {
     "cell_type": "markdown",
     "metadata": {
      "slideshow": {
       "slide_type": "slide"
      }
     },
     "source": [
      "### Run the stencil in Python mode (default)"
     ]
    },
    {
     "cell_type": "code",
     "collapsed": false,
     "input": [
      "copy         = CopyStencil ( )      # instance of the stencil defined above\n",
      "copy.backend = \"python\"             # will run in Python only mode\n",
      "\n",
      "%timeit -n1 -p3 -r 10 copy.run (in_data=source, out_data=target) # execute it"
     ],
     "language": "python",
     "metadata": {
      "slideshow": {
       "slide_type": "-"
      }
     },
     "outputs": [
      {
       "output_type": "stream",
       "stream": "stdout",
       "text": [
        "1 loops, best of 10: 82.6 ms per loop\n"
       ]
      }
     ],
     "prompt_number": 4
    },
    {
     "cell_type": "markdown",
     "metadata": {
      "slideshow": {
       "slide_type": "-"
      }
     },
     "source": [
      "### Run the *same* stencil in C++ mode"
     ]
    },
    {
     "cell_type": "code",
     "collapsed": false,
     "input": [
      "copy.backend = \"c++\"        # will run using Gridtools in C++\n",
      "\n",
      "%timeit -n1 -p3 -r 10 copy.run (in_data=source, out_data=target) # execute it"
     ],
     "language": "python",
     "metadata": {
      "slideshow": {
       "slide_type": "-"
      }
     },
     "outputs": [
      {
       "output_type": "stream",
       "stream": "stdout",
       "text": [
        "1 loops, best of 10: 147 \u00b5s per loop\n"
       ]
      }
     ],
     "prompt_number": 5
    },
    {
     "cell_type": "markdown",
     "metadata": {
      "slideshow": {
       "slide_type": "slide"
      }
     },
     "source": [
      "### The code has been translated, compiled and dynamically linked into the current session"
     ]
    },
    {
     "cell_type": "code",
     "collapsed": false,
     "input": [
      "copy.lib_obj"
     ],
     "language": "python",
     "metadata": {
      "slideshow": {
       "slide_type": "-"
      }
     },
     "outputs": [
      {
       "metadata": {},
       "output_type": "pyout",
       "prompt_number": 6,
       "text": [
        "<CDLL '/tmp/__gridtools_w50qiabp/libcopystencil.so', handle 7f9b8213bcc0 at 7f9b51d986d8>"
       ]
      }
     ],
     "prompt_number": 6
    },
    {
     "cell_type": "markdown",
     "metadata": {
      "slideshow": {
       "slide_type": "slide"
      }
     },
     "source": [
      "### Example: the Laplace operator"
     ]
    },
    {
     "cell_type": "code",
     "collapsed": false,
     "input": [
      "class Laplace (MultiStageStencil):\n",
      "    def kernel (self, out_data, in_data):\n",
      "        \"\"\"\n",
      "        The user must always define a 'kernel' function.-\n",
      "        \"\"\"\n",
      "        for p in self.get_interior_points (out_data):\n",
      "            out_data[p] = -4.0 * in_data[p] - (\n",
      "                          in_data[p + (1,0,0)] + in_data[p + (0,1,0)] + \n",
      "                          in_data[p + (-1,0,0)] + in_data[p + (0,-1,0)])"
     ],
     "language": "python",
     "metadata": {
      "slideshow": {
       "slide_type": "-"
      }
     },
     "outputs": [],
     "prompt_number": 7
    },
    {
     "cell_type": "markdown",
     "metadata": {
      "slideshow": {
       "slide_type": "slide"
      }
     },
     "source": [
      "### Run it in Python and C++ modes"
     ]
    },
    {
     "cell_type": "code",
     "collapsed": false,
     "input": [
      "lap = Laplace ( )\n",
      "lap.set_halo        ( (1, 1, 1, 1) )\n",
      "lap.set_k_direction (\"forward\")\n",
      "\n",
      "lap.backend = \"python\"\n",
      "%timeit -n 1 -p 3 -r 5 lap.run (in_data=source, out_data=target)\n",
      "\n",
      "lap.backend = \"c++\"\n",
      "%timeit -n 1 -p 3 -r 5 lap.run (in_data=source, out_data=target)"
     ],
     "language": "python",
     "metadata": {
      "slideshow": {
       "slide_type": "-"
      }
     },
     "outputs": [
      {
       "output_type": "stream",
       "stream": "stdout",
       "text": [
        "1 loops, best of 5: 846 ms per loop\n",
        "1 loops, best of 5: 309 \u00b5s per loop"
       ]
      },
      {
       "output_type": "stream",
       "stream": "stdout",
       "text": [
        "\n"
       ]
      }
     ],
     "prompt_number": 8
    },
    {
     "cell_type": "markdown",
     "metadata": {
      "slideshow": {
       "slide_type": "-"
      }
     },
     "source": [
      "### Stencil combination example: horizontal diffusion"
     ]
    },
    {
     "cell_type": "code",
     "collapsed": false,
     "input": [
      "class FluxI (MultiStageStencil):\n",
      "    def kernel (self, out_fli, in_lapi):\n",
      "        for p in self.get_interior_points (out_fli):\n",
      "            out_fli[p] = in_lapi[p + (1,0,0)] - in_lapi[p]\n",
      "\n",
      "class FluxJ (MultiStageStencil):\n",
      "    def kernel (self, out_flj, in_lapj):\n",
      "        for p in self.get_interior_points (out_flj):\n",
      "            out_flj[p] = in_lapj[p + (0,1,0)] - in_lapj[p]\n",
      "\n",
      "class Out (MultiStageStencil):\n",
      "    def kernel (self, out_hr, in_wgt, in_fli, in_flj):\n",
      "        for p in self.get_interior_points (out_hr):\n",
      "            out_hr[p] = in_wgt[p] * ( in_fli[p + (-1,0,0)] - in_fli[p] +\n",
      "                                      in_flj[p + (0,-1,0)] - in_flj[p] )            "
     ],
     "language": "python",
     "metadata": {
      "slideshow": {
       "slide_type": "-"
      }
     },
     "outputs": [],
     "prompt_number": 9
    },
    {
     "cell_type": "code",
     "collapsed": false,
     "input": [
      "#\n",
      "# combine the four stencils together\n",
      "#\n",
      "lap = Laplace ( )\n",
      "lap.set_halo ( (1,1,1,1) )\n",
      "\n",
      "fli = FluxI ( )\n",
      "lap.set_halo ( (1,1,1,1) )\n",
      "\n",
      "flj = FluxJ ( )\n",
      "lap.set_halo ( (1,1,1,1) )\n",
      "\n",
      "out = Out ( )\n",
      "lap.set_halo ( (1,1,1,1) )"
     ],
     "language": "python",
     "metadata": {
      "slideshow": {
       "slide_type": "-"
      }
     },
     "outputs": [],
     "prompt_number": 10
    },
    {
     "cell_type": "code",
     "collapsed": false,
     "input": [
      "#\n",
      "# given a restriction of unique parameter names,\n",
      "# we may build a combined stencil like this\n",
      "#\n",
      "hor_dif = out.build (output='out_hr',\n",
      "                     in_fli=fli.build (output='out_fli',\n",
      "                                       in_lapi=lap.build (output='out_data')),\n",
      "                     in_flj=flj.build (output='out_flj',\n",
      "                                       in_lapj=lap.build (output='out_data')))"
     ],
     "language": "python",
     "metadata": {},
     "outputs": [],
     "prompt_number": 11
    },
    {
     "cell_type": "code",
     "collapsed": false,
     "input": [
      "wgt = np.ones (domain)\n",
      "for i in range (domain[0]):\n",
      "    for j in range (domain[1]):\n",
      "        for k in range (domain[2]):\n",
      "            source[i,j,k] = i**3 + j\n",
      "\n",
      "#\n",
      "# ``hor_dif`` is now a combined stencil and can run in C++ mode\n",
      "#\n",
      "hor_dif.backend = \"c++\"\n",
      "hor_dif.run (out_hr=target,\n",
      "             in_wgt=wgt,\n",
      "             in_data=source)"
     ],
     "language": "python",
     "metadata": {},
     "outputs": [],
     "prompt_number": 12
    },
    {
     "cell_type": "markdown",
     "metadata": {
      "slideshow": {
       "slide_type": "-"
      }
     },
     "source": [
      "### Plotting and Animations"
     ]
    },
    {
     "cell_type": "code",
     "collapsed": false,
     "input": [
      "hor_dif.plot_3d (target[:,:,0])\n",
      "hor_dif.plot_3d (source[:,:,0])"
     ],
     "language": "python",
     "metadata": {},
     "outputs": [
      {
       "metadata": {},
       "output_type": "pyout",
       "prompt_number": 13,
       "text": [
        "<mpl_toolkits.mplot3d.art3d.Line3DCollection at 0x7fda1a556e80>"
       ]
      }
     ],
     "prompt_number": 13
    },
    {
     "cell_type": "code",
     "collapsed": false,
     "input": [
      "from tests.test_sw import SWTest\n",
      "\n",
      "anim = SWTest ( )\n",
      "anim.setUp ( )\n",
      "try:\n",
      "    anim.test_animation (10000)\n",
      "except Exception:\n",
      "    print (\"done\")"
     ],
     "language": "python",
     "metadata": {},
     "outputs": [
      {
       "output_type": "stream",
       "stream": "stdout",
       "text": [
        "done\n"
       ]
      }
     ],
     "prompt_number": 15
    },
    {
     "cell_type": "markdown",
     "metadata": {
      "slideshow": {
       "slide_type": "slide"
      }
     },
     "source": [
      "### Status as of 13. May 2015\n",
      "\n",
      "* copy, laplace, double laplace, and horizontal diffusion stencils on CPU;\n",
      "* automatic detection of read-only fields based on source analysis;\n",
      "* definition of a stencil program as a combination of existing stencils: this approach is similar to the one presented in MODESTO (by Tobias Gysi); horizontal diffusion using this approach is working ok;\n",
      "* integrated 3d plotting capabilities;\n",
      "* integrated 3d animations using an OpenGL backend;\n",
      "* automatic construction and display of execution and data dependency graphs by means of source analysis;\n",
      "* stencil definition containing \"independent\" stages, which may be potentially executed in parallel;\n",
      "* stage definition as a function, which avoids code replication and enables per-stage user settings;\n",
      "* deploy tutorial IPython Notebooks;\n",
      "* integrate the CMake and the C++ build infrastructure;\n",
      "* + integrate CUDA capabilities;\n",
      "* + increase the range of constructs understood by the translator;\n",
      "* + integrate the testing infrastructure on different CSCS systems;\n",
      "* - change the offset-indexing syntax."
     ]
    },
    {
     "cell_type": "code",
     "collapsed": false,
     "input": [],
     "language": "python",
     "metadata": {},
     "outputs": []
    }
   ],
   "metadata": {}
  }
 ]
}