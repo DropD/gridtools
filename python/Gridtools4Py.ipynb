{
 "metadata": {
  "celltoolbar": "Slideshow",
  "name": "",
  "signature": "sha256:3e2ac2f2503a44564c6332f6acaf225418785ff45bf0df26b9b444b0a295937c"
 },
 "nbformat": 3,
 "nbformat_minor": 0,
 "worksheets": [
  {
   "cells": [
    {
     "cell_type": "markdown",
     "metadata": {
      "slideshow": {
       "slide_type": "slide"
      }
     },
     "source": [
      "# Gridtools4Py\n",
      "## Python for Gridtools"
     ]
    },
    {
     "cell_type": "code",
     "collapsed": false,
     "input": [
      "%pylab inline"
     ],
     "language": "python",
     "metadata": {
      "slideshow": {
       "slide_type": "skip"
      }
     },
     "outputs": [
      {
       "output_type": "stream",
       "stream": "stdout",
       "text": [
        "Populating the interactive namespace from numpy and matplotlib\n"
       ]
      }
     ],
     "prompt_number": 3
    },
    {
     "cell_type": "markdown",
     "metadata": {
      "slideshow": {
       "slide_type": "slide"
      }
     },
     "source": [
      "### About Gridtools ..."
     ]
    },
    {
     "cell_type": "markdown",
     "metadata": {
      "slideshow": {
       "slide_type": "slide"
      }
     },
     "source": [
      "### A copy stencil in Gridtools\n"
     ]
    },
    {
     "cell_type": "code",
     "collapsed": false,
     "input": [
      "!cat /home/luka/src/gridtools/examples/copy_stencil.h"
     ],
     "language": "python",
     "metadata": {
      "slideshow": {
       "slide_type": "skip"
      }
     },
     "outputs": [
      {
       "output_type": "stream",
       "stream": "stdout",
       "text": [
        "\r\n",
        "#pragma once\r\n",
        "\r\n",
        "#include <gridtools.h>\r\n",
        "#ifdef CUDA_EXAMPLE\r\n",
        "#include <stencil-composition/backend_cuda.h>\r\n",
        "#else\r\n",
        "#include <stencil-composition/backend_host.h>\r\n",
        "#endif\r\n",
        "\r\n",
        "#include <boost/timer/timer.hpp>\r\n",
        "#include <boost/fusion/include/make_vector.hpp>\r\n",
        "\r\n",
        "#ifdef USE_PAPI_WRAP\r\n",
        "#include <papi_wrap.h>\r\n",
        "#include <papi.h>\r\n",
        "#endif\r\n",
        "\r\n",
        "/*\r\n",
        "  This file shows an implementation of the \"copy\" stencil, simple copy of one field done on the backend\r\n",
        " */\r\n",
        "\r\n",
        "using gridtools::level;\r\n",
        "using gridtools::arg_type;\r\n",
        "using gridtools::range;\r\n",
        "using gridtools::arg;\r\n",
        "\r\n",
        "using namespace gridtools;\r\n",
        "using namespace enumtype;\r\n",
        "\r\n",
        "\r\n",
        "namespace copy_stencil{\r\n",
        "// This is the definition of the special regions in the \"vertical\" direction\r\n",
        "typedef gridtools::interval<level<0,-1>, level<1,-1> > x_interval;\r\n",
        "typedef gridtools::interval<level<0,-2>, level<1,1> > axis;\r\n",
        "\r\n",
        "// These are the stencil operators that compose the multistage stencil in this test\r\n",
        "struct copy_functor {\r\n",
        "#ifdef CXX11_ENABLED\r\n",
        "    typedef arg_extend<arg_type<0>, 1>::type in;\r\n",
        "    typedef boost::mpl::vector<in> arg_list;\r\n",
        "    typedef Dimension<3> time;\r\n",
        "#else\r\n",
        "    typedef const arg_type<0> in;\r\n",
        "    typedef arg_type<1> out;\r\n",
        "    typedef boost::mpl::vector<in,out> arg_list;\r\n",
        "#endif\r\n",
        "    /* static const auto expression=in(1,0,0)-out(); */\r\n",
        "\r\n",
        "    template <typename Evaluation>\r\n",
        "    GT_FUNCTION\r\n",
        "    static void Do(Evaluation const & eval, x_interval) {\r\n",
        "#ifdef CXX11_ENABLED\r\n",
        "        eval(in(1))\r\n",
        "#else\r\n",
        "        eval(out())\r\n",
        "#endif\r\n",
        "=eval(in());\r\n",
        "      }\r\n",
        "};\r\n",
        "\r\n",
        "/*\r\n",
        " * The following operators and structs are for debugging only\r\n",
        " */\r\n",
        "std::ostream& operator<<(std::ostream& s, copy_functor const) {\r\n",
        "    return s << \"copy_functor\";\r\n",
        "}\r\n",
        "\r\n",
        "void handle_error(int_t)\r\n",
        "{std::cout<<\"error\"<<std::endl;}\r\n",
        "\r\n",
        "bool test(uint_t x, uint_t y, uint_t z) {\r\n",
        "\r\n",
        "#ifdef USE_PAPI_WRAP\r\n",
        "  int collector_init = pw_new_collector(\"Init\");\r\n",
        "  int collector_execute = pw_new_collector(\"Execute\");\r\n",
        "#endif\r\n",
        "\r\n",
        "    uint_t d1 = x;\r\n",
        "    uint_t d2 = y;\r\n",
        "    uint_t d3 = z;\r\n",
        "\r\n",
        "#ifdef CUDA_EXAMPLE\r\n",
        "#define BACKEND backend<Cuda, Naive >\r\n",
        "#else\r\n",
        "#ifdef BACKEND_BLOCK\r\n",
        "#define BACKEND backend<Host, Block >\r\n",
        "#else\r\n",
        "#define BACKEND backend<Host, Naive >\r\n",
        "#endif\r\n",
        "#endif\r\n",
        "    //                      dims  z y x\r\n",
        "    //                   strides xy x 1\r\n",
        "    typedef gridtools::layout_map<2,1,0> layout_t;\r\n",
        "    typedef gridtools::BACKEND::storage_type<float_type, layout_t >::type storage_type;\r\n",
        "    //typedef storage_type::basic_type integrator_type;\r\n",
        "    /* typedef extend<storage_type::basic_type, 2> integrator_type; */\r\n",
        "#ifdef CXX11_ENABLED\r\n",
        "    // typedef extend_width<storage_type::basic_type, 0>  extended_type;\r\n",
        "    // typedef extend_dim<extended_type, extended_type>  integrator_type;\r\n",
        "    typedef extend<storage_type::basic_type, 0, 0>::type  integrator_type;\r\n",
        "#endif\r\n",
        "    //out.print();\r\n",
        "\r\n",
        "    // Definition of placeholders. The order of them reflect the order the user will deal with them\r\n",
        "    // especially the non-temporary ones, in the construction of the domain\r\n",
        "#ifdef CXX11_ENABLED\r\n",
        "    typedef arg<0, integrator_type > p_in;\r\n",
        "    typedef boost::mpl::vector<p_in> arg_type_list;\r\n",
        "#else\r\n",
        "    typedef arg<0, storage_type> p_in;\r\n",
        "    typedef arg<1, storage_type> p_out;\r\n",
        "    // An array of placeholders to be passed to the domain\r\n",
        "    // I'm using mpl::vector, but the final API should look slightly simpler\r\n",
        "    typedef boost::mpl::vector<p_in, p_out> arg_type_list;\r\n",
        "#endif\r\n",
        "    /* typedef arg<1, integrator_type > p_out; */\r\n",
        "\r\n",
        "\r\n",
        "    // Definition of the actual data fields that are used for input/output\r\n",
        "#ifdef CXX11_ENABLED\r\n",
        "    integrator_type in(d1,d2,d3);\r\n",
        "    integrator_type::original_storage::pointer_type  init1(d1*d2*d3);\r\n",
        "    integrator_type::original_storage::pointer_type  init2(d1*d2*d3);\r\n",
        "    in.push_front<0>(init1, 1.5);\r\n",
        "    in.push_front<1>(init2, -1.5);\r\n",
        "#else\r\n",
        "    storage_type in(d1,d2,d3,-3.5);\r\n",
        "    storage_type out(d1,d2,d3,1.5);\r\n",
        "#endif\r\n",
        "\r\n",
        "    for(uint_t i=0; i<d1; ++i)\r\n",
        "        for(uint_t j=0; j<d2; ++j)\r\n",
        "            for(uint_t k=0; k<d3; ++k)\r\n",
        "            {\r\n",
        "#ifdef CXX11_ENABLED\r\n",
        "                in(i, j, k)=i+j+k;\r\n",
        "#else\r\n",
        "                in(i, j, k)=i+j+k;\r\n",
        "#endif\r\n",
        "            }\r\n",
        "\r\n",
        "\r\n",
        "    // construction of the domain. The domain is the physical domain of the problem, with all the physical fields that are used, temporary and not\r\n",
        "    // It must be noted that the only fields to be passed to the constructor are the non-temporary.\r\n",
        "    // The order in which they have to be passed is the order in which they appear scanning the placeholders in order. (I don't particularly like this)\r\n",
        "#ifdef CXX11_ENABLED\r\n",
        "    gridtools::domain_type<arg_type_list> domain\r\n",
        "      (boost::fusion::make_vector(&in));\r\n",
        "#else\r\n",
        "    gridtools::domain_type<arg_type_list> domain\r\n",
        "      (boost::fusion::make_vector(&in, &out));\r\n",
        "#endif\r\n",
        "    // Definition of the physical dimensions of the problem.\r\n",
        "    // The constructor takes the horizontal plane dimensions,\r\n",
        "    // while the vertical ones are set according the the axis property soon after\r\n",
        "    // gridtools::coordinates<axis> coords(2,d1-2,2,d2-2);\r\n",
        "    uint_t di[5] = {0, 0, 0, d1, d1};\r\n",
        "    uint_t dj[5] = {0, 0, 0, d2, d2};\r\n",
        "\r\n",
        "    gridtools::coordinates<axis> coords(di, dj);\r\n",
        "    coords.value_list[0] = 0;\r\n",
        "    coords.value_list[1] = d3-1;\r\n",
        "\r\n",
        "    /*\r\n",
        "      Here we do lot of stuff\r\n",
        "      1) We pass to the intermediate representation ::run function the description\r\n",
        "      of the stencil, which is a multi-stage stencil (mss)\r\n",
        "      The mss includes (in order of execution) a laplacian, two fluxes which are independent\r\n",
        "      and a final step that is the out_function\r\n",
        "      2) The logical physical domain with the fields to use\r\n",
        "      3) The actual domain dimensions\r\n",
        "     */\r\n",
        "\r\n",
        "#ifdef USE_PAPI\r\n",
        "int event_set = PAPI_NULL;\r\n",
        "int retval;\r\n",
        "long long values[1] = {-1};\r\n",
        "\r\n",
        "\r\n",
        "/* Initialize the PAPI library */\r\n",
        "retval = PAPI_library_init(PAPI_VER_CURRENT);\r\n",
        "if (retval != PAPI_VER_CURRENT) {\r\n",
        "  fprintf(stderr, \"PAPI library init error!\\n\");\r\n",
        "  exit(1);\r\n",
        "}\r\n",
        "\r\n",
        "if( PAPI_create_eventset(&event_set) != PAPI_OK)\r\n",
        "    handle_error(1);\r\n",
        "if( PAPI_add_event(event_set, PAPI_FP_INS) != PAPI_OK) //floating point operations\r\n",
        "    handle_error(1);\r\n",
        "#endif\r\n",
        "\r\n",
        "#ifdef USE_PAPI_WRAP\r\n",
        "    pw_start_collector(collector_init);\r\n",
        "#endif\r\n",
        "\r\n",
        "// \\todo simplify the following using the auto keyword from C++11\r\n",
        "#ifdef __CUDACC__\r\n",
        "    gridtools::computation* copy =\r\n",
        "#else\r\n",
        "        boost::shared_ptr<gridtools::computation> copy =\r\n",
        "#endif\r\n",
        "      gridtools::make_computation<gridtools::BACKEND, layout_t>\r\n",
        "        (\r\n",
        "            gridtools::make_mss // mss_descriptor\r\n",
        "            (\r\n",
        "                execute<forward>(),\r\n",
        "                gridtools::make_esf<copy_functor>(p_in() // esf_descriptor\r\n",
        "#ifndef CXX11_ENABLED\r\n",
        "                                                  ,p_out()\r\n",
        "#endif\r\n",
        "                    )\r\n",
        "                ),\r\n",
        "            domain, coords\r\n",
        "            );\r\n",
        "\r\n",
        "    copy->ready();\r\n",
        "\r\n",
        "    copy->steady();\r\n",
        "    domain.clone_to_gpu();\r\n",
        "\r\n",
        "#ifdef USE_PAPI_WRAP\r\n",
        "    pw_stop_collector(collector_init);\r\n",
        "#endif\r\n",
        "\r\n",
        "    /* boost::timer::cpu_timer time; */\r\n",
        "#ifdef USE_PAPI\r\n",
        "if( PAPI_start(event_set) != PAPI_OK)\r\n",
        "    handle_error(1);\r\n",
        "#endif\r\n",
        "#ifdef USE_PAPI_WRAP\r\n",
        "    pw_start_collector(collector_execute);\r\n",
        "#endif\r\n",
        "    copy->run();\r\n",
        "\r\n",
        "#ifdef USE_PAPI\r\n",
        "double dummy=0.5;\r\n",
        "double dummy2=0.8;\r\n",
        "if( PAPI_read(event_set, values) != PAPI_OK)\r\n",
        "    handle_error(1);\r\n",
        "printf(\"%f After reading the counters: %lld\\n\", dummy, values[0]);\r\n",
        "PAPI_stop(event_set, values);\r\n",
        "#endif\r\n",
        "#ifdef USE_PAPI_WRAP\r\n",
        "    pw_stop_collector(collector_execute);\r\n",
        "#endif\r\n",
        "    /* boost::timer::cpu_times lapse_time = time.elapsed(); */\r\n",
        "\r\n",
        "    copy->finalize();\r\n",
        "\r\n",
        "//#ifdef CUDA_EXAMPLE\r\n",
        "    //out.data().update_cpu();\r\n",
        "//#endif\r\n",
        "#define NX 5\r\n",
        "#define NY 5\r\n",
        "#define NZ 5\r\n",
        "\r\n",
        "#ifdef USE_PAPI_WRAP\r\n",
        "    pw_print();\r\n",
        "#endif\r\n",
        "\r\n",
        "#ifdef CXX11_ENABLED\r\n",
        "    in.print_value(NX,NY,0);\r\n",
        "    in.print_value(NX,0,NZ);\r\n",
        "    in.print_value(0,NY,NZ);\r\n",
        "    in.print_value(NX,NY,NZ);\r\n",
        "    return  in(0,0,0)==0. && in(NX,NY,0)==NX+NY && in(NX,0,NZ)==NX+NZ && in(0,NY,NZ)==NY+NZ && in(NX,NY,NZ)==NX+NY+NZ;\r\n",
        "#else\r\n",
        "    out.print_value(NX,NY,0);\r\n",
        "    out.print_value(NX,0,NZ);\r\n",
        "    out.print_value(0,NY,NZ);\r\n",
        "    out.print_value(NX,NY,NZ);\r\n",
        "    return  out(0,0,0)==0. && out(NX,NY,0)==NX+NY && out(NX,0,NZ)==NX+NZ && out(0,NY,NZ)==NY+NZ && out(NX,NY,NZ)==NX+NY+NZ;\r\n",
        "#endif\r\n",
        "\r\n",
        "}\r\n",
        "\r\n",
        "}//namespace copy_stencil\r\n"
       ]
      }
     ],
     "prompt_number": 1
    },
    {
     "cell_type": "code",
     "collapsed": false,
     "input": [
      "#pragma once\n",
      "\n",
      "#include <gridtools.h>\n",
      "#ifdef CUDA_EXAMPLE\n",
      "#include <stencil-composition/backend_cuda.h>\n",
      "#else\n",
      "#include <stencil-composition/backend_host.h>\n",
      "#endif\n",
      "\n",
      "#include <boost/timer/timer.hpp>\n",
      "#include <boost/fusion/include/make_vector.hpp>\n",
      "\n",
      "#ifdef USE_PAPI_WRAP\n",
      "#include <papi_wrap.h>\n",
      "#include <papi.h>\n",
      "#endif\n",
      "\n",
      "/*\n",
      "  This file shows an implementation of the \"copy\" stencil, simple copy of one field done on the backend\n",
      " */\n",
      "\n",
      "using gridtools::level;\n",
      "using gridtools::arg_type;\n",
      "using gridtools::range;\n",
      "using gridtools::arg;\n",
      "\n",
      "using namespace gridtools;\n",
      "using namespace enumtype;\n",
      "\n",
      "\n",
      "namespace copy_stencil{\n",
      "// This is the definition of the special regions in the \"vertical\" direction\n",
      "typedef gridtools::interval<level<0,-1>, level<1,-1> > x_interval;\n",
      "typedef gridtools::interval<level<0,-2>, level<1,1> > axis;\n",
      "\n",
      "// These are the stencil operators that compose the multistage stencil in this test\n",
      "struct copy_functor {\n",
      "#ifdef CXX11_ENABLED\n",
      "    typedef arg_extend<arg_type<0>, 1>::type in;\n",
      "    typedef boost::mpl::vector<in> arg_list;\n",
      "    typedef Dimension<3> time;\n",
      "#else\n",
      "    typedef const arg_type<0> in;\n",
      "    typedef arg_type<1> out;\n",
      "    typedef boost::mpl::vector<in,out> arg_list;\n",
      "#endif\n",
      "    /* static const auto expression=in(1,0,0)-out(); */\n",
      "\n",
      "    template <typename Evaluation>\n",
      "    GT_FUNCTION\n",
      "    static void Do(Evaluation const & eval, x_interval) {\n",
      "#ifdef CXX11_ENABLED\n",
      "        eval(in(1))\n",
      "#else\n",
      "        eval(out())\n",
      "#endif\n",
      "=eval(in());\n",
      "      }\n",
      "};\n",
      "\n",
      "/*\n",
      " * The following operators and structs are for debugging only\n",
      " */\n",
      "std::ostream& operator<<(std::ostream& s, copy_functor const) {\n",
      "    return s << \"copy_functor\";\n",
      "}\n",
      "\n",
      "void handle_error(int_t)\n",
      "{std::cout<<\"error\"<<std::endl;}\n",
      "\n",
      "bool test(uint_t x, uint_t y, uint_t z) {\n",
      "\n",
      "#ifdef USE_PAPI_WRAP\n",
      "  int collector_init = pw_new_collector(\"Init\");\n",
      "  int collector_execute = pw_new_collector(\"Execute\");\n",
      "#endif\n",
      "\n",
      "    uint_t d1 = x;\n",
      "    uint_t d2 = y;\n",
      "    uint_t d3 = z;\n",
      "\n",
      "#ifdef CUDA_EXAMPLE\n",
      "#define BACKEND backend<Cuda, Naive >\n",
      "#else\n",
      "#ifdef BACKEND_BLOCK\n",
      "#define BACKEND backend<Host, Block >\n",
      "#else\n",
      "#define BACKEND backend<Host, Naive >\n",
      "#endif\n",
      "#endif\n",
      "    //                      dims  z y x\n",
      "    //                   strides xy x 1\n",
      "    typedef gridtools::layout_map<2,1,0> layout_t;\n",
      "    typedef gridtools::BACKEND::storage_type<float_type, layout_t >::type storage_type;\n",
      "    //typedef storage_type::basic_type integrator_type;\n",
      "    /* typedef extend<storage_type::basic_type, 2> integrator_type; */\n",
      "#ifdef CXX11_ENABLED\n",
      "    // typedef extend_width<storage_type::basic_type, 0>  extended_type;\n",
      "    // typedef extend_dim<extended_type, extended_type>  integrator_type;\n",
      "    typedef extend<storage_type::basic_type, 0, 0>::type  integrator_type;\n",
      "#endif\n",
      "    //out.print();\n",
      "\n",
      "    // Definition of placeholders. The order of them reflect the order the user will deal with them\n",
      "    // especially the non-temporary ones, in the construction of the domain\n",
      "#ifdef CXX11_ENABLED\n",
      "    typedef arg<0, integrator_type > p_in;\n",
      "    typedef boost::mpl::vector<p_in> arg_type_list;\n",
      "#else\n",
      "    typedef arg<0, storage_type> p_in;\n",
      "    typedef arg<1, storage_type> p_out;\n",
      "    // An array of placeholders to be passed to the domain\n",
      "    // I'm using mpl::vector, but the final API should look slightly simpler\n",
      "    typedef boost::mpl::vector<p_in, p_out> arg_type_list;\n",
      "#endif\n",
      "    /* typedef arg<1, integrator_type > p_out; */\n",
      "\n",
      "\n",
      "    // Definition of the actual data fields that are used for input/output\n",
      "#ifdef CXX11_ENABLED\n",
      "    integrator_type in(d1,d2,d3);\n",
      "    integrator_type::original_storage::pointer_type  init1(d1*d2*d3);\n",
      "    integrator_type::original_storage::pointer_type  init2(d1*d2*d3);\n",
      "    in.push_front<0>(init1, 1.5);\n",
      "    in.push_front<1>(init2, -1.5);\n",
      "#else\n",
      "    storage_type in(d1,d2,d3,-3.5);\n",
      "    storage_type out(d1,d2,d3,1.5);\n",
      "#endif\n",
      "\n",
      "    for(uint_t i=0; i<d1; ++i)\n",
      "        for(uint_t j=0; j<d2; ++j)\n",
      "            for(uint_t k=0; k<d3; ++k)\n",
      "            {\n",
      "#ifdef CXX11_ENABLED\n",
      "                in(i, j, k)=i+j+k;\n",
      "#else\n",
      "                in(i, j, k)=i+j+k;\n",
      "#endif\n",
      "            }\n",
      "\n",
      "\n",
      "    // construction of the domain. The domain is the physical domain of the problem, with all the physical fields that are used, temporary and not\n",
      "    // It must be noted that the only fields to be passed to the constructor are the non-temporary.\n",
      "    // The order in which they have to be passed is the order in which they appear scanning the placeholders in order. (I don't particularly like this)\n",
      "#ifdef CXX11_ENABLED\n",
      "    gridtools::domain_type<arg_type_list> domain\n",
      "      (boost::fusion::make_vector(&in));\n",
      "#else\n",
      "    gridtools::domain_type<arg_type_list> domain\n",
      "      (boost::fusion::make_vector(&in, &out));\n",
      "#endif\n",
      "    // Definition of the physical dimensions of the problem.\n",
      "    // The constructor takes the horizontal plane dimensions,\n",
      "    // while the vertical ones are set according the the axis property soon after\n",
      "    // gridtools::coordinates<axis> coords(2,d1-2,2,d2-2);\n",
      "    uint_t di[5] = {0, 0, 0, d1, d1};\n",
      "    uint_t dj[5] = {0, 0, 0, d2, d2};\n",
      "\n",
      "    gridtools::coordinates<axis> coords(di, dj);\n",
      "    coords.value_list[0] = 0;\n",
      "    coords.value_list[1] = d3-1;\n",
      "\n",
      "    /*\n",
      "      Here we do lot of stuff\n",
      "      1) We pass to the intermediate representation ::run function the description\n",
      "      of the stencil, which is a multi-stage stencil (mss)\n",
      "      The mss includes (in order of execution) a laplacian, two fluxes which are independent\n",
      "      and a final step that is the out_function\n",
      "      2) The logical physical domain with the fields to use\n",
      "      3) The actual domain dimensions\n",
      "     */\n",
      "\n",
      "#ifdef USE_PAPI\n",
      "int event_set = PAPI_NULL;\n",
      "int retval;\n",
      "long long values[1] = {-1};\n",
      "\n",
      "\n",
      "/* Initialize the PAPI library */\n",
      "retval = PAPI_library_init(PAPI_VER_CURRENT);\n",
      "if (retval != PAPI_VER_CURRENT) {\n",
      "  fprintf(stderr, \"PAPI library init error!\\n\");\n",
      "  exit(1);\n",
      "}\n",
      "\n",
      "if( PAPI_create_eventset(&event_set) != PAPI_OK)\n",
      "    handle_error(1);\n",
      "if( PAPI_add_event(event_set, PAPI_FP_INS) != PAPI_OK) //floating point operations\n",
      "    handle_error(1);\n",
      "#endif\n",
      "\n",
      "#ifdef USE_PAPI_WRAP\n",
      "    pw_start_collector(collector_init);\n",
      "#endif\n",
      "\n",
      "// \\todo simplify the following using the auto keyword from C++11\n",
      "#ifdef __CUDACC__\n",
      "    gridtools::computation* copy =\n",
      "#else\n",
      "        boost::shared_ptr<gridtools::computation> copy =\n",
      "#endif\n",
      "      gridtools::make_computation<gridtools::BACKEND, layout_t>\n",
      "        (\n",
      "            gridtools::make_mss // mss_descriptor\n",
      "            (\n",
      "                execute<forward>(),\n",
      "                gridtools::make_esf<copy_functor>(p_in() // esf_descriptor\n",
      "#ifndef CXX11_ENABLED\n",
      "                                                  ,p_out()\n",
      "#endif\n",
      "                    )\n",
      "                ),\n",
      "            domain, coords\n",
      "            );\n",
      "\n",
      "    copy->ready();\n",
      "\n",
      "    copy->steady();\n",
      "    domain.clone_to_gpu();\n",
      "\n",
      "#ifdef USE_PAPI_WRAP\n",
      "    pw_stop_collector(collector_init);\n",
      "#endif\n",
      "\n",
      "    /* boost::timer::cpu_timer time; */\n",
      "#ifdef USE_PAPI\n",
      "if( PAPI_start(event_set) != PAPI_OK)\n",
      "    handle_error(1);\n",
      "#endif\n",
      "#ifdef USE_PAPI_WRAP\n",
      "    pw_start_collector(collector_execute);\n",
      "#endif\n",
      "    copy->run();\n",
      "\n",
      "#ifdef USE_PAPI\n",
      "double dummy=0.5;\n",
      "double dummy2=0.8;\n",
      "if( PAPI_read(event_set, values) != PAPI_OK)\n",
      "    handle_error(1);\n",
      "printf(\"%f After reading the counters: %lld\\n\", dummy, values[0]);\n",
      "PAPI_stop(event_set, values);\n",
      "#endif\n",
      "#ifdef USE_PAPI_WRAP\n",
      "    pw_stop_collector(collector_execute);\n",
      "#endif\n",
      "    /* boost::timer::cpu_times lapse_time = time.elapsed(); */\n",
      "\n",
      "    copy->finalize();\n",
      "\n",
      "//#ifdef CUDA_EXAMPLE\n",
      "    //out.data().update_cpu();\n",
      "//#endif\n",
      "#define NX 5\n",
      "#define NY 5\n",
      "#define NZ 5\n",
      "\n",
      "#ifdef USE_PAPI_WRAP\n",
      "    pw_print();\n",
      "#endif\n",
      "\n",
      "#ifdef CXX11_ENABLED\n",
      "    in.print_value(NX,NY,0);\n",
      "    in.print_value(NX,0,NZ);\n",
      "    in.print_value(0,NY,NZ);\n",
      "    in.print_value(NX,NY,NZ);\n",
      "    return  in(0,0,0)==0. && in(NX,NY,0)==NX+NY && in(NX,0,NZ)==NX+NZ && in(0,NY,NZ)==NY+NZ && in(NX,NY,NZ)==NX+NY+NZ;\n",
      "#else\n",
      "    out.print_value(NX,NY,0);\n",
      "    out.print_value(NX,0,NZ);\n",
      "    out.print_value(0,NY,NZ);\n",
      "    out.print_value(NX,NY,NZ);\n",
      "    return  out(0,0,0)==0. && out(NX,NY,0)==NX+NY && out(NX,0,NZ)==NX+NZ && out(0,NY,NZ)==NY+NZ && out(NX,NY,NZ)==NX+NY+NZ;\n",
      "#endif\n",
      "\n",
      "}\n",
      "\n",
      "}//namespace copy_stencil"
     ],
     "language": "python",
     "metadata": {
      "slideshow": {
       "slide_type": "subslide"
      }
     },
     "outputs": []
    },
    {
     "cell_type": "markdown",
     "metadata": {
      "slideshow": {
       "slide_type": "slide"
      }
     },
     "source": [
      "### A copy stencil implemented in Python\n"
     ]
    },
    {
     "cell_type": "code",
     "collapsed": false,
     "input": [
      "from tests.test_stencils import Copy\n",
      "from gridtools import MultiStageStencil\n",
      "\n",
      "\n",
      "class CopyStencil (MultiStageStencil):\n",
      "    \"\"\"\n",
      "    Definition of a simple copy stencil.-\n",
      "    \"\"\"\n",
      "    def kernel (self, out_data, in_data):\n",
      "        \"\"\"\n",
      "        The entry stage of this stencil.-\n",
      "        \"\"\"\n",
      "        #\n",
      "        # iterate over the interior data points\n",
      "        #\n",
      "        for p in self.get_interior_points (out_data,\n",
      "                                           k_direction=\"forward\"):\n",
      "            out_data[p] = in_data[p]\n"
     ],
     "language": "python",
     "metadata": {
      "slideshow": {
       "slide_type": "-"
      }
     },
     "outputs": [],
     "prompt_number": 1
    },
    {
     "cell_type": "markdown",
     "metadata": {
      "slideshow": {
       "slide_type": "slide"
      }
     },
     "source": [
      "### Define the domain size and two data fields"
     ]
    },
    {
     "cell_type": "code",
     "collapsed": false,
     "input": [
      "domain = (64, 64, 64)\n",
      "\n",
      "source = np.random.rand (*domain)   # data field of size 'domain'\n",
      "                                    # filled with random numbers\n",
      "target = np.zeros (domain)          # data field of size 'domain'\n",
      "                                    # filled with zeros\n"
     ],
     "language": "python",
     "metadata": {
      "slideshow": {
       "slide_type": "-"
      }
     },
     "outputs": [],
     "prompt_number": 5
    },
    {
     "cell_type": "markdown",
     "metadata": {
      "slideshow": {
       "slide_type": "slide"
      }
     },
     "source": [
      "### Run the stencil in Python mode (default)"
     ]
    },
    {
     "cell_type": "code",
     "collapsed": false,
     "input": [
      "copy = Copy ( )              # instance of the stencil defined above\n",
      "copy.backend = \"python\"      # will run in Python only mode\n",
      "\n",
      "%timeit -n1 -p3 -r 10 copy.run (in_data=source, out_data=target) # execute it"
     ],
     "language": "python",
     "metadata": {
      "slideshow": {
       "slide_type": "-"
      }
     },
     "outputs": [
      {
       "output_type": "stream",
       "stream": "stdout",
       "text": [
        "1 loops, best of 10: 178 ms per loop\n"
       ]
      }
     ],
     "prompt_number": 6
    },
    {
     "cell_type": "markdown",
     "metadata": {
      "slideshow": {
       "slide_type": "-"
      }
     },
     "source": [
      "### Run the *same* stencil in C++ mode"
     ]
    },
    {
     "cell_type": "code",
     "collapsed": false,
     "input": [
      "copy.backend = \"c++\"        # will run using Gridtools in C++\n",
      "\n",
      "%timeit -n1 -p3 -r 10 copy.run (in_data=source, out_data=target) # execute it"
     ],
     "language": "python",
     "metadata": {
      "slideshow": {
       "slide_type": "-"
      }
     },
     "outputs": [
      {
       "output_type": "stream",
       "stream": "stdout",
       "text": [
        "1 loops, best of 10: 191 \u00b5s per loop\n"
       ]
      }
     ],
     "prompt_number": 7
    },
    {
     "cell_type": "markdown",
     "metadata": {
      "slideshow": {
       "slide_type": "slide"
      }
     },
     "source": [
      "### Inspect the automatically-generated C++ code"
     ]
    },
    {
     "cell_type": "code",
     "collapsed": false,
     "input": [
      "!ls /tmp/__gridtools_hwuf3gqx/"
     ],
     "language": "python",
     "metadata": {
      "slideshow": {
       "slide_type": "-"
      }
     },
     "outputs": [
      {
       "output_type": "stream",
       "stream": "stdout",
       "text": [
        "CopyStencil.cpp  CopyStencil.cpp.o  CopyStencil.h  libcopystencil.so  Makefile\r\n"
       ]
      }
     ],
     "prompt_number": 9
    },
    {
     "cell_type": "code",
     "collapsed": false,
     "input": [
      "!cat /tmp/__gridtools_hwuf3gqx/CopyStencil.h"
     ],
     "language": "python",
     "metadata": {
      "slideshow": {
       "slide_type": "subslide"
      }
     },
     "outputs": [
      {
       "output_type": "stream",
       "stream": "stdout",
       "text": [
        "/**\r\n",
        " * This code was automatically generated by gridtools4py:\r\n",
        " * the Python interface to the Gridtools library\r\n",
        " *\r\n",
        " */\r\n",
        "#pragma once\r\n",
        "\r\n",
        "#include <gridtools.h>\r\n",
        "#include <common/defs.h>\r\n",
        "#include <stencil-composition/backend_host.h>\r\n",
        "\r\n",
        "#include <boost/fusion/include/make_vector.hpp>\r\n",
        "\r\n",
        "\r\n",
        "\r\n",
        "#ifdef BACKEND_BLOCK\r\n",
        "#define BACKEND backend<Host, Block >\r\n",
        "#else\r\n",
        "#define BACKEND backend<Host, Naive >\r\n",
        "#endif\r\n",
        "\r\n",
        "\r\n",
        "\r\n",
        "using gridtools::level;\r\n",
        "using gridtools::arg_type;\r\n",
        "using gridtools::range;\r\n",
        "using gridtools::arg;\r\n",
        "\r\n",
        "using namespace gridtools;\r\n",
        "using namespace enumtype;\r\n",
        "\r\n",
        "\r\n",
        "namespace copystencil\r\n",
        "{\r\n",
        "//\r\n",
        "// definition of the special regions in the vertical (k) direction\r\n",
        "//\r\n",
        "typedef gridtools::interval<level<0,-1>, level<1,-1> > x_interval;\r\n",
        "typedef gridtools::interval<level<0,-2>, level<1,1> > axis;\r\n",
        "\r\n",
        "//\r\n",
        "// functor definition - begin\r\n",
        "//\r\n",
        "\r\n",
        "\r\n",
        "//\r\n",
        "// definition of the operators that compose the multistage stencil:\r\n",
        "// this is extracted from the AST analysis of the loop operations\r\n",
        "// in Python, using the 'kernel' function as a starting point\r\n",
        "//\r\n",
        "struct functor_8542\r\n",
        "{\r\n",
        "    //\r\n",
        "    // the number of arguments of this functor \r\n",
        "    //\r\n",
        "    static const int n_args = 2;\r\n",
        "\r\n",
        "    //\r\n",
        "    // the input and output data fields of this functor\r\n",
        "    // (input fields are always 'const')\r\n",
        "    //\r\n",
        "    typedef arg_type<0> out_data;\r\n",
        "    typedef const arg_type<1> in_data;\r\n",
        "        \r\n",
        "\r\n",
        "    //\r\n",
        "    // the complete list of arguments of this functor\r\n",
        "    //\r\n",
        "    typedef boost::mpl::vector<out_data,in_data> arg_list;\r\n",
        "\r\n",
        "    //\r\n",
        "    // the operation of this functor\r\n",
        "    //\r\n",
        "    template <typename Domain>\r\n",
        "    GT_FUNCTION\r\n",
        "    static void Do(Domain const & dom, x_interval) \r\n",
        "    {\r\n",
        "        dom(out_data( )) = dom(in_data( ));\r\n",
        "\t\t\r\n",
        "    }\r\n",
        "};\r\n",
        "\r\n",
        "\r\n",
        "//\r\n",
        "// the following operator is provided for debugging purposes\r\n",
        "//\r\n",
        "std::ostream& operator<<(std::ostream& s, functor_8542 const) \r\n",
        "{\r\n",
        "    return s << \"functor_8542\";\r\n",
        "}\r\n",
        " \r\n",
        "\r\n",
        "//\r\n",
        "// functor definition - end\r\n",
        "//\r\n",
        "\r\n",
        "\r\n",
        "\r\n",
        "bool test (uint_t d1, uint_t d2, uint_t d3,void *out_data_buff,void *in_data_buff)\r\n",
        "{\r\n",
        "    //\r\n",
        "    // Fortran-like memory layout\r\n",
        "    //\r\n",
        "    //typedef gridtools::layout_map<2,1,0> layout_t;\r\n",
        "    \r\n",
        "    //\r\n",
        "    // C-like memory layout\r\n",
        "    //\r\n",
        "    typedef gridtools::layout_map<0,1,2> layout_t;\r\n",
        "\r\n",
        "    typedef gridtools::BACKEND::storage_type<double, layout_t >::type storage_type;\r\n",
        "    \r\n",
        "    //\r\n",
        "    // input data fields share their buffers with NumPy arrays\r\n",
        "    //  \r\n",
        "    storage_type in_data ((uint_t) 64,(uint_t) 64,(uint_t) 64,\r\n",
        "                          (double *) in_data_buff,\r\n",
        "                          std::string (\"in_data\"));\r\n",
        "    \r\n",
        "    //\r\n",
        "    // output data fields also share their buffers with NumPy arrays\r\n",
        "    //  \r\n",
        "    storage_type out_data ((uint_t) 64,(uint_t) 64,(uint_t) 64,\r\n",
        "                           (double *) out_data_buff,\r\n",
        "                           std::string (\"out_data\"));\r\n",
        "    \r\n",
        "    // \r\n",
        "    // place-holder definition: their order reflect matches the stencil\r\n",
        "    // parameters, especially the non-temporary ones, during the construction\r\n",
        "    // of the domain\r\n",
        "    //\r\n",
        "    typedef arg<0, storage_type> p_out_data;\r\n",
        "    typedef arg<1, storage_type> p_in_data;\r\n",
        "    \r\n",
        "    // An array of placeholders to be passed to the domain\r\n",
        "    // I'm using mpl::vector, but the final API should look slightly simpler\r\n",
        "    typedef boost::mpl::vector<p_out_data, p_in_data> arg_type_list; \r\n",
        "\r\n",
        "    //\r\n",
        "    // construction of the domain.\r\n",
        "    // The domain is the physical domain of the problem, with all the physical\r\n",
        "    // fields that are used, temporary and not.\r\n",
        "    // It must be noted that the only fields to be passed to the constructor \r\n",
        "    // are the non-temporary. The order in which they have to be passed is the\r\n",
        "    // order in which they appear scanning the placeholders in order. \r\n",
        "    // (I don't particularly like this)\r\n",
        "    //\r\n",
        "    gridtools::domain_type<arg_type_list> domain (boost::fusion::make_vector (&out_data, &in_data));\r\n",
        "\r\n",
        "    //\r\n",
        "    // definition of the physical dimensions of the problem.\r\n",
        "    // The constructor takes the horizontal plane dimensions,\r\n",
        "    // while the vertical ones are set according the the axis \r\n",
        "    // property soon after this:\r\n",
        "    //\r\n",
        "    //      gridtools::coordinates<axis> coords(2,d1-2,2,d2-2);\r\n",
        "    //\r\n",
        "    uint_t di[5] = {1, 1, 1, d1-1, d1-1};\r\n",
        "    uint_t dj[5] = {1, 1, 1, d2-1, d2-1};\r\n",
        "\r\n",
        "    gridtools::coordinates<axis> coords(di, dj);\r\n",
        "    coords.value_list[0] = 0;\r\n",
        "    coords.value_list[1] = d3-1;\r\n",
        "\r\n",
        "    //\r\n",
        "    // Here we do a lot of stuff\r\n",
        "    //\r\n",
        "    // 1) we pass to the intermediate representation ::run function the \r\n",
        "    // description of the stencil, which is a multi-stage stencil (mss);\r\n",
        "    // 2) the logical physical domain with the fields to use;\r\n",
        "    // 3) the actual domain dimensions\r\n",
        "    //\r\n",
        "    boost::shared_ptr<gridtools::computation> comp_copystencil =\r\n",
        "      gridtools::make_computation<gridtools::BACKEND, layout_t>\r\n",
        "        (\r\n",
        "            gridtools::make_mss\r\n",
        "            (\r\n",
        "                execute<forward>(),\r\n",
        "                gridtools::make_esf<functor_8542>(p_out_data(), p_in_data())\r\n",
        "                ),\r\n",
        "            domain, coords\r\n",
        "            );\r\n",
        "\r\n",
        "    //\r\n",
        "    // execute the stencil\r\n",
        "    //\r\n",
        "    comp_copystencil->ready();\r\n",
        "    comp_copystencil->steady();\r\n",
        "    comp_copystencil->run();\r\n",
        "\r\n",
        "    //\r\n",
        "    // clean everything up\r\n",
        "    //\r\n",
        "    comp_copystencil->finalize();\r\n",
        "\r\n",
        "    return EXIT_SUCCESS;\r\n",
        "}\r\n",
        "\r\n",
        "} // namespace copystencil\r\n"
       ]
      }
     ],
     "prompt_number": 12
    },
    {
     "cell_type": "markdown",
     "metadata": {
      "slideshow": {
       "slide_type": "slide"
      }
     },
     "source": [
      "### Example: the Laplace operator"
     ]
    },
    {
     "cell_type": "code",
     "collapsed": false,
     "input": [
      "from tests.test_stencils import Laplace\n",
      "from gridtools import MultiStageStencil\n",
      "\n",
      "\n",
      "class LaplaceStencil (MultiStageStencil):\n",
      "    \"\"\"\n",
      "    A Laplace operator.-\n",
      "    \"\"\"\n",
      "    def kernel (self, out_data, in_data):\n",
      "        \"\"\"\n",
      "        Stencil's entry point.-\n",
      "        \"\"\"\n",
      "        #\n",
      "        # iterate over the field's interior points\n",
      "        #\n",
      "        for p in self.get_interior_points (out_data,\n",
      "                                           halo=(-1,1,-1,1),\n",
      "                                           k_direction=\"forward\"):\n",
      "            out_data[p] = 4 * in_data[p] - (\n",
      "                    in_data[p + (1,0,0)] + in_data[p + (0,1,0)] + \n",
      "                    in_data[p + (-1,0,0)] + in_data[p + (0,-1,0)])\n"
     ],
     "language": "python",
     "metadata": {
      "slideshow": {
       "slide_type": "-"
      }
     },
     "outputs": [],
     "prompt_number": 2
    },
    {
     "cell_type": "markdown",
     "metadata": {
      "slideshow": {
       "slide_type": "slide"
      }
     },
     "source": [
      "### Run it in Python mode"
     ]
    },
    {
     "cell_type": "code",
     "collapsed": false,
     "input": [
      "lap = Laplace ( )\n",
      "lap.backend = \"python\"\n",
      "\n",
      "%timeit -n 1 -p 3 -r 10 lap.run (in_data=source, out_data=target)"
     ],
     "language": "python",
     "metadata": {
      "slideshow": {
       "slide_type": "-"
      }
     },
     "outputs": [
      {
       "output_type": "stream",
       "stream": "stdout",
       "text": [
        "1 loops, best of 10: 1.88 s per loop\n"
       ]
      }
     ],
     "prompt_number": 9
    },
    {
     "cell_type": "markdown",
     "metadata": {
      "slideshow": {
       "slide_type": "-"
      }
     },
     "source": [
      "### Run it in C++ mode"
     ]
    },
    {
     "cell_type": "code",
     "collapsed": false,
     "input": [
      "lap.backend = \"c++\"\n",
      "\n",
      "%timeit -n 1 -p 3 -r 10 lap.run (in_data=source, out_data=target)"
     ],
     "language": "python",
     "metadata": {
      "slideshow": {
       "slide_type": "-"
      }
     },
     "outputs": [
      {
       "output_type": "stream",
       "stream": "stdout",
       "text": [
        "1 loops, best of 10: 337 \u00b5s per loop\n"
       ]
      }
     ],
     "prompt_number": 10
    },
    {
     "cell_type": "markdown",
     "metadata": {
      "slideshow": {
       "slide_type": "slide"
      }
     },
     "source": [
      "### Another example: a Laplace of Laplace"
     ]
    },
    {
     "cell_type": "code",
     "collapsed": false,
     "input": [
      "from gridtools import MultiStageStencil\n",
      "\n",
      "\n",
      "class LaplaceOfLaplace (MultiStageStencil):\n",
      "    \"\"\"\n",
      "    A stencil that applies the Laplace operator twice, \n",
      "    as the one used in COSMO.-\n",
      "    \"\"\"\n",
      "    def __init__ (self, domain):\n",
      "        super ( ).__init__ ( )\n",
      "        #\n",
      "        # a temporary data field\n",
      "        #\n",
      "        self.tmp_field = np.zeros (domain)\n",
      "\n",
      "    def kernel (self, out_data, in_data):\n",
      "        \"\"\"\n",
      "        Stencil's entry point.-\n",
      "        \"\"\"\n",
      "        #\n",
      "        # the first stage uses a 2D halo of size 2\n",
      "        #\n",
      "        for p in self.get_interior_points (out_data,\n",
      "                                           halo=(-2,2,-2,2),\n",
      "                                           k_direction=\"forward\"):\n",
      "            self.tmp_field[p] = 4 * in_data[p] - (\n",
      "                                in_data[p + (1,0,0)] + \n",
      "                                in_data[p + (0,1,0)] + \n",
      "                                in_data[p + (-1,0,0)] + \n",
      "                                in_data[p + (0,-1,0)] )\n",
      "        #\n",
      "        # the second stage uses a 2D halo of size 1\n",
      "        #\n",
      "        for p in self.get_interior_points (out_data,\n",
      "                                           halo=(-1,1,-1,1),\n",
      "                                           k_direction=\"forward\"):\n",
      "            out_data[p] = 4 * self.tmp_field[p] - (\n",
      "                          self.tmp_field[p + (1,0,0)] + \n",
      "                          self.tmp_field[p + (0,1,0)] + \n",
      "                          self.tmp_field[p + (-1,0,0)] + \n",
      "                          self.tmp_field[p + (0,-1,0)] )"
     ],
     "language": "python",
     "metadata": {
      "slideshow": {
       "slide_type": "-"
      }
     },
     "outputs": [],
     "prompt_number": 2
    },
    {
     "cell_type": "markdown",
     "metadata": {
      "slideshow": {
       "slide_type": "slide"
      }
     },
     "source": [
      "### Roadmap\n",
      "\n",
      "* change the offset-indexing syntax\n",
      "* integrate the CMake and the C++ build infrastructure\n",
      "* integrate the testing infrastructure on different CSCS systems\n",
      "* deploy IPython Notebooks with cluster support\n",
      "* integrate OpenMP and CUDA capabilities\n",
      "* increase the range of constructs understood by the translator \n",
      "* provide an mechanism to alter the scheduling of a parallel execution, e.g., Halide"
     ]
    },
    {
     "cell_type": "markdown",
     "metadata": {
      "slideshow": {
       "slide_type": "skip"
      }
     },
     "source": [
      "---\n",
      "Please ignore the cell below. It just loads the style file for the notebook."
     ]
    },
    {
     "cell_type": "code",
     "collapsed": false,
     "input": [
      "from IPython.core.display import HTML\n",
      "def css_styling():\n",
      "    styles = open(\"./styles/custom.css\", \"r\").read()\n",
      "    return HTML(styles)\n",
      "css_styling()"
     ],
     "language": "python",
     "metadata": {
      "slideshow": {
       "slide_type": "skip"
      }
     },
     "outputs": [
      {
       "html": [
        "<link href='http://fonts.googleapis.com/css?family=Fenix' rel='stylesheet' type='text/css'>\n",
        "<link href='http://fonts.googleapis.com/css?family=Alegreya+Sans:100,300,400,500,700,800,900,100italic,300italic,400italic,500italic,700italic,800italic,900italic' rel='stylesheet' type='text/css'>\n",
        "<link href='http://fonts.googleapis.com/css?family=Source+Code+Pro:300,400' rel='stylesheet' type='text/css'>\n",
        "<style>\n",
        "    @font-face {\n",
        "        font-family: \"Computer Modern\";\n",
        "        src: url('http://mirrors.ctan.org/fonts/cm-unicode/fonts/otf/cmunss.otf');\n",
        "    }\n",
        "    div.cell{\n",
        "        width:800px;\n",
        "        margin-left:16% !important;\n",
        "        margin-right:auto;\n",
        "    }\n",
        "    h1 {\n",
        "        font-family: 'Alegreya Sans', sans-serif;\n",
        "    }\n",
        "    h2 {\n",
        "        font-family: 'Fenix', serif;\n",
        "    }\n",
        "    h3{\n",
        "\t\tfont-family: 'Fenix', serif;\n",
        "        margin-top:12px;\n",
        "        margin-bottom: 3px;\n",
        "       }\n",
        "\th4{\n",
        "\t\tfont-family: 'Fenix', serif;\n",
        "       }\n",
        "    h5 {\n",
        "        font-family: 'Alegreya Sans', sans-serif;\n",
        "    }\t   \n",
        "    div.text_cell_render{\n",
        "        font-family: 'Alegreya Sans',Computer Modern, \"Helvetica Neue\", Arial, Helvetica, Geneva, sans-serif;\n",
        "        line-height: 135%;\n",
        "        font-size: 120%;\n",
        "        width:600px;\n",
        "        margin-left:auto;\n",
        "        margin-right:auto;\n",
        "    }\n",
        "    .CodeMirror{\n",
        "            font-family: \"Source Code Pro\";\n",
        "\t\t\tfont-size: 90%;\n",
        "    }\n",
        "/*    .prompt{\n",
        "        display: None;\n",
        "    }*/\n",
        "    .text_cell_render h1 {\n",
        "        font-weight: 200;\n",
        "        font-size: 50pt;\n",
        "\t\tline-height: 100%;\n",
        "        color:#CD2305;\n",
        "        margin-bottom: 0.5em;\n",
        "        margin-top: 0.5em;\n",
        "        display: block;\n",
        "    }\t\n",
        "    .text_cell_render h5 {\n",
        "        font-weight: 300;\n",
        "        font-size: 16pt;\n",
        "        color: #CD2305;\n",
        "        font-style: italic;\n",
        "        margin-bottom: .5em;\n",
        "        margin-top: 0.5em;\n",
        "        display: block;\n",
        "    }\n",
        "    \n",
        "    .warning{\n",
        "        color: rgb( 240, 20, 20 )\n",
        "        }  \n",
        "</style>\n",
        "<script>\n",
        "    MathJax.Hub.Config({\n",
        "                        TeX: {\n",
        "                           extensions: [\"AMSmath.js\"]\n",
        "                           },\n",
        "                tex2jax: {\n",
        "                    inlineMath: [ ['$','$'], [\"\\\\(\",\"\\\\)\"] ],\n",
        "                    displayMath: [ ['$$','$$'], [\"\\\\[\",\"\\\\]\"] ]\n",
        "                },\n",
        "                displayAlign: 'center', // Change this to 'center' to center equations.\n",
        "                \"HTML-CSS\": {\n",
        "                    styles: {'.MathJax_Display': {\"margin\": 4}}\n",
        "                }\n",
        "        });\n",
        "</script>\n"
       ],
       "metadata": {},
       "output_type": "pyout",
       "prompt_number": 12,
       "text": [
        "<IPython.core.display.HTML at 0x7f8999025fd0>"
       ]
      }
     ],
     "prompt_number": 12
    }
   ],
   "metadata": {}
  }
 ]
}